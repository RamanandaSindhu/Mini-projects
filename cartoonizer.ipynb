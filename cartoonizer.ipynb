{
  "nbformat": 4,
  "nbformat_minor": 0,
  "metadata": {
    "colab": {
      "provenance": [],
      "authorship_tag": "ABX9TyM8pL/f3y6tDhlc5j3fj2CF"
    },
    "kernelspec": {
      "name": "python3",
      "display_name": "Python 3"
    },
    "language_info": {
      "name": "python"
    }
  },
  "cells": [
    {
      "cell_type": "code",
      "execution_count": null,
      "metadata": {
        "colab": {
          "base_uri": "https://localhost:8080/"
        },
        "id": "fG7VJY7e6aJ5",
        "outputId": "a4a8944d-2fe3-4e7e-9c9e-2757fecf7a3e"
      },
      "outputs": [
        {
          "output_type": "stream",
          "name": "stdout",
          "text": [
            "Enter image file name (e.g., 'dog.jpg'): dog.jpg\n",
            "Enter directory (e.g., '/content/pic'): /content/pic\n",
            "Found: /content/pic/dog.jpg\n",
            "Choose cartoon style (1 or 2): 2\n",
            "Saved cartoon image to: /content/pic/cartoon_output_2.jpg\n"
          ]
        }
      ],
      "source": [
        "import cv2\n",
        "import os\n",
        "from pathlib import Path\n",
        "\n",
        "def find_the_image(file_name, directory_name):\n",
        "    directory_name = os.path.abspath(directory_name)  # Convert to absolute path\n",
        "    files_found = []\n",
        "\n",
        "    for path, subdirs, files in os.walk(directory_name):\n",
        "        for name in files:\n",
        "            if file_name == name:\n",
        "                file_path = os.path.join(path, name)\n",
        "                files_found.append(file_path)\n",
        "\n",
        "    if not files_found:\n",
        "        print(f\"No file named '{file_name}' found in '{directory_name}'\")\n",
        "        return None\n",
        "\n",
        "    print(f\"Found: {files_found[0]}\")\n",
        "    return files_found[0]\n",
        "\n",
        "# --- User Input ---\n",
        "image_name = input(\"Enter image file name (e.g., 'dog.jpg'): \").strip()\n",
        "image_directory = input(\"Enter directory (e.g., '/content/pic'): \").strip()\n",
        "\n",
        "# --- Find image ---\n",
        "image_path_str = find_the_image(image_name, image_directory)\n",
        "if image_path_str is None:\n",
        "    raise FileNotFoundError(\"Image file not found. Please check the file name and directory.\")\n",
        "\n",
        "image_path = Path(image_path_str)\n",
        "new_working_directory = image_path.parent\n",
        "os.chdir(new_working_directory)\n",
        "\n",
        "# --- Load image ---\n",
        "color_image = cv2.imread(str(image_path))\n",
        "if color_image is None:\n",
        "    raise ValueError(\"Image could not be read. Check if it's corrupted or unsupported.\")\n",
        "\n",
        "# --- Style input ---\n",
        "style = input(\"Choose cartoon style (1 or 2): \").strip()\n",
        "if style == \"1\":\n",
        "    cartoon = cv2.stylization(color_image, sigma_s=150, sigma_r=0.25)\n",
        "elif style == \"2\":\n",
        "    cartoon = cv2.stylization(color_image, sigma_s=60, sigma_r=0.5)\n",
        "else:\n",
        "    print(\"Invalid style selected.\")\n",
        "    exit()\n",
        "\n",
        "# --- Show or Save ---\n",
        "try:\n",
        "    cv2.imshow(\"Cartoon\", cartoon)\n",
        "    cv2.waitKey(0)\n",
        "    cv2.destroyAllWindows()\n",
        "except:\n",
        "    output_path = new_working_directory / f\"cartoon_output_{style}.jpg\"\n",
        "    cv2.imwrite(str(output_path), cartoon)\n",
        "    print(f\"Saved cartoon image to: {output_path}\")\n"
      ]
    }
  ]
}